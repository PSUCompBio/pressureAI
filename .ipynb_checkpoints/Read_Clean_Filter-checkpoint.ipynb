{
 "cells": [
  {
   "cell_type": "code",
   "execution_count": null,
   "id": "53d38e72",
   "metadata": {},
   "outputs": [],
   "source": [
    "import s3fs #S3Fs is a Pythonic file interface to S3. It builds on top of botocore.\n",
    "import matplotlib.pyplot as plt\n",
    "import numpy as np\n",
    "import math\n",
    "import pandas as pd\n",
    "import os\n",
    "import h5py"
   ]
  },
  {
   "cell_type": "code",
   "execution_count": null,
   "id": "d0d9b3c7",
   "metadata": {},
   "outputs": [],
   "source": [
    "#Define root path\n",
    "fs = s3fs.S3FileSystem()\n",
    "root = \"s3://blast-sim-data/\"\n",
    "#root = \"s3://blast-sim-data/drdc\""
   ]
  }
 ],
 "metadata": {
  "kernelspec": {
   "display_name": "conda_amazonei_tensorflow2_p36",
   "language": "python",
   "name": "conda_amazonei_tensorflow2_p36"
  },
  "language_info": {
   "codemirror_mode": {
    "name": "ipython",
    "version": 3
   },
   "file_extension": ".py",
   "mimetype": "text/x-python",
   "name": "python",
   "nbconvert_exporter": "python",
   "pygments_lexer": "ipython3",
   "version": "3.6.13"
  }
 },
 "nbformat": 4,
 "nbformat_minor": 5
}
